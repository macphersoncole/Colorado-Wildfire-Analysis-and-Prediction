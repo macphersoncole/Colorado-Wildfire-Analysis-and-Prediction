{
 "cells": [
  {
   "cell_type": "code",
   "execution_count": 1,
   "metadata": {},
   "outputs": [],
   "source": [
    "import netCDF4\n",
    "import xarray as xr\n",
    "import pandas as pd\n",
    "import numpy as np\n",
    "import matplotlib.pyplot as plt\n",
    "import seaborn as sns\n",
    "from sklearn import svm\n",
    "from sklearn.model_selection import train_test_split\n",
    "from sklearn.metrics import accuracy_score"
   ]
  },
  {
   "cell_type": "code",
   "execution_count": 2,
   "metadata": {},
   "outputs": [],
   "source": [
    "#NOTE: File paths should be the same if you are working in the repo.\n",
    "#Also, I would push these csv's but they're bigger than the max file size lmao\n",
    "wind = xr.open_dataset('../Data/new_raw_data/agg_terraclimate_windspeed_1979_2020.nc')\n",
    "drought = xr.open_dataset('../Data/new_raw_data/Drought_PDSI_1979_2020_GLOBE.nc')\n",
    "wind.ws.to_dataframe().to_csv('../Data/new_raw_data/windspeed.csv')\n",
    "drought.PDSI.to_dataframe().to_csv('../Data/new_raw_data/drought.csv')"
   ]
  },
  {
   "cell_type": "code",
   "execution_count": 3,
   "metadata": {},
   "outputs": [
    {
     "data": {
      "text/html": [
       "<div>\n",
       "<style scoped>\n",
       "    .dataframe tbody tr th:only-of-type {\n",
       "        vertical-align: middle;\n",
       "    }\n",
       "\n",
       "    .dataframe tbody tr th {\n",
       "        vertical-align: top;\n",
       "    }\n",
       "\n",
       "    .dataframe thead th {\n",
       "        text-align: right;\n",
       "    }\n",
       "</style>\n",
       "<table border=\"1\" class=\"dataframe\">\n",
       "  <thead>\n",
       "    <tr style=\"text-align: right;\">\n",
       "      <th></th>\n",
       "      <th>time</th>\n",
       "      <th>lat</th>\n",
       "      <th>lon</th>\n",
       "      <th>ws</th>\n",
       "    </tr>\n",
       "  </thead>\n",
       "  <tbody>\n",
       "    <tr>\n",
       "      <th>0</th>\n",
       "      <td>1979-01-01</td>\n",
       "      <td>40.98</td>\n",
       "      <td>-109.02</td>\n",
       "      <td>2.86</td>\n",
       "    </tr>\n",
       "    <tr>\n",
       "      <th>1</th>\n",
       "      <td>1979-01-01</td>\n",
       "      <td>40.98</td>\n",
       "      <td>-108.98</td>\n",
       "      <td>2.84</td>\n",
       "    </tr>\n",
       "    <tr>\n",
       "      <th>2</th>\n",
       "      <td>1979-01-01</td>\n",
       "      <td>40.98</td>\n",
       "      <td>-108.94</td>\n",
       "      <td>2.91</td>\n",
       "    </tr>\n",
       "    <tr>\n",
       "      <th>3</th>\n",
       "      <td>1979-01-01</td>\n",
       "      <td>40.98</td>\n",
       "      <td>-108.90</td>\n",
       "      <td>2.68</td>\n",
       "    </tr>\n",
       "    <tr>\n",
       "      <th>4</th>\n",
       "      <td>1979-01-01</td>\n",
       "      <td>40.98</td>\n",
       "      <td>-108.85</td>\n",
       "      <td>2.56</td>\n",
       "    </tr>\n",
       "  </tbody>\n",
       "</table>\n",
       "</div>"
      ],
      "text/plain": [
       "         time    lat     lon    ws\n",
       "0  1979-01-01  40.98 -109.02  2.86\n",
       "1  1979-01-01  40.98 -108.98  2.84\n",
       "2  1979-01-01  40.98 -108.94  2.91\n",
       "3  1979-01-01  40.98 -108.90  2.68\n",
       "4  1979-01-01  40.98 -108.85  2.56"
      ]
     },
     "execution_count": 3,
     "metadata": {},
     "output_type": "execute_result"
    }
   ],
   "source": [
    "wind_df = pd.read_csv('../data/new_raw_data/windspeed.csv')\n",
    "wind_df = np.round(wind_df, decimals=2)\n",
    "wind_df.head(5)"
   ]
  },
  {
   "cell_type": "code",
   "execution_count": 4,
   "metadata": {},
   "outputs": [
    {
     "data": {
      "text/html": [
       "<div>\n",
       "<style scoped>\n",
       "    .dataframe tbody tr th:only-of-type {\n",
       "        vertical-align: middle;\n",
       "    }\n",
       "\n",
       "    .dataframe tbody tr th {\n",
       "        vertical-align: top;\n",
       "    }\n",
       "\n",
       "    .dataframe thead th {\n",
       "        text-align: right;\n",
       "    }\n",
       "</style>\n",
       "<table border=\"1\" class=\"dataframe\">\n",
       "  <thead>\n",
       "    <tr style=\"text-align: right;\">\n",
       "      <th></th>\n",
       "      <th>time</th>\n",
       "      <th>lat</th>\n",
       "      <th>lon</th>\n",
       "      <th>PDSI</th>\n",
       "    </tr>\n",
       "  </thead>\n",
       "  <tbody>\n",
       "    <tr>\n",
       "      <th>0</th>\n",
       "      <td>1979-01-01</td>\n",
       "      <td>36.98</td>\n",
       "      <td>-109.02</td>\n",
       "      <td>4.18</td>\n",
       "    </tr>\n",
       "    <tr>\n",
       "      <th>1</th>\n",
       "      <td>1979-01-01</td>\n",
       "      <td>36.98</td>\n",
       "      <td>-108.98</td>\n",
       "      <td>4.15</td>\n",
       "    </tr>\n",
       "    <tr>\n",
       "      <th>2</th>\n",
       "      <td>1979-01-01</td>\n",
       "      <td>36.98</td>\n",
       "      <td>-108.94</td>\n",
       "      <td>4.11</td>\n",
       "    </tr>\n",
       "    <tr>\n",
       "      <th>3</th>\n",
       "      <td>1979-01-01</td>\n",
       "      <td>36.98</td>\n",
       "      <td>-108.90</td>\n",
       "      <td>4.10</td>\n",
       "    </tr>\n",
       "    <tr>\n",
       "      <th>4</th>\n",
       "      <td>1979-01-01</td>\n",
       "      <td>36.98</td>\n",
       "      <td>-108.85</td>\n",
       "      <td>3.94</td>\n",
       "    </tr>\n",
       "  </tbody>\n",
       "</table>\n",
       "</div>"
      ],
      "text/plain": [
       "         time    lat     lon  PDSI\n",
       "0  1979-01-01  36.98 -109.02  4.18\n",
       "1  1979-01-01  36.98 -108.98  4.15\n",
       "2  1979-01-01  36.98 -108.94  4.11\n",
       "3  1979-01-01  36.98 -108.90  4.10\n",
       "4  1979-01-01  36.98 -108.85  3.94"
      ]
     },
     "execution_count": 4,
     "metadata": {},
     "output_type": "execute_result"
    }
   ],
   "source": [
    "drought_df = pd.read_csv('../data/new_raw_data/drought.csv')\n",
    "drought_df = np.round(drought_df, decimals=2)\n",
    "drought_df.head(5)"
   ]
  },
  {
   "cell_type": "code",
   "execution_count": 5,
   "metadata": {},
   "outputs": [
    {
     "data": {
      "text/html": [
       "<div>\n",
       "<style scoped>\n",
       "    .dataframe tbody tr th:only-of-type {\n",
       "        vertical-align: middle;\n",
       "    }\n",
       "\n",
       "    .dataframe tbody tr th {\n",
       "        vertical-align: top;\n",
       "    }\n",
       "\n",
       "    .dataframe thead th {\n",
       "        text-align: right;\n",
       "    }\n",
       "</style>\n",
       "<table border=\"1\" class=\"dataframe\">\n",
       "  <thead>\n",
       "    <tr style=\"text-align: right;\">\n",
       "      <th></th>\n",
       "      <th>time</th>\n",
       "      <th>lat</th>\n",
       "      <th>lon</th>\n",
       "      <th>ws</th>\n",
       "      <th>PDSI</th>\n",
       "    </tr>\n",
       "  </thead>\n",
       "  <tbody>\n",
       "    <tr>\n",
       "      <th>16224</th>\n",
       "      <td>1979-01-01</td>\n",
       "      <td>36.98</td>\n",
       "      <td>-109.02</td>\n",
       "      <td>2.03</td>\n",
       "      <td>4.18</td>\n",
       "    </tr>\n",
       "    <tr>\n",
       "      <th>16225</th>\n",
       "      <td>1979-01-01</td>\n",
       "      <td>36.98</td>\n",
       "      <td>-108.98</td>\n",
       "      <td>2.02</td>\n",
       "      <td>4.15</td>\n",
       "    </tr>\n",
       "    <tr>\n",
       "      <th>16226</th>\n",
       "      <td>1979-01-01</td>\n",
       "      <td>36.98</td>\n",
       "      <td>-108.94</td>\n",
       "      <td>2.06</td>\n",
       "      <td>4.11</td>\n",
       "    </tr>\n",
       "    <tr>\n",
       "      <th>16227</th>\n",
       "      <td>1979-01-01</td>\n",
       "      <td>36.98</td>\n",
       "      <td>-108.90</td>\n",
       "      <td>2.11</td>\n",
       "      <td>4.10</td>\n",
       "    </tr>\n",
       "    <tr>\n",
       "      <th>16228</th>\n",
       "      <td>1979-01-01</td>\n",
       "      <td>36.98</td>\n",
       "      <td>-108.85</td>\n",
       "      <td>2.12</td>\n",
       "      <td>3.94</td>\n",
       "    </tr>\n",
       "  </tbody>\n",
       "</table>\n",
       "</div>"
      ],
      "text/plain": [
       "             time    lat     lon    ws  PDSI\n",
       "16224  1979-01-01  36.98 -109.02  2.03  4.18\n",
       "16225  1979-01-01  36.98 -108.98  2.02  4.15\n",
       "16226  1979-01-01  36.98 -108.94  2.06  4.11\n",
       "16227  1979-01-01  36.98 -108.90  2.11  4.10\n",
       "16228  1979-01-01  36.98 -108.85  2.12  3.94"
      ]
     },
     "execution_count": 5,
     "metadata": {},
     "output_type": "execute_result"
    }
   ],
   "source": [
    "weather_df = pd.merge(wind_df, drought_df, how='outer')\n",
    "weather_df = weather_df.dropna()\n",
    "weather_df.head(5)"
   ]
  },
  {
   "cell_type": "code",
   "execution_count": 6,
   "metadata": {},
   "outputs": [],
   "source": [
    "weather_lat_values = weather_df['lat'].unique()\n",
    "weather_lon_values = weather_df['lon'].unique()"
   ]
  },
  {
   "cell_type": "code",
   "execution_count": 7,
   "metadata": {},
   "outputs": [
    {
     "data": {
      "text/html": [
       "<div>\n",
       "<style scoped>\n",
       "    .dataframe tbody tr th:only-of-type {\n",
       "        vertical-align: middle;\n",
       "    }\n",
       "\n",
       "    .dataframe tbody tr th {\n",
       "        vertical-align: top;\n",
       "    }\n",
       "\n",
       "    .dataframe thead th {\n",
       "        text-align: right;\n",
       "    }\n",
       "</style>\n",
       "<table border=\"1\" class=\"dataframe\">\n",
       "  <thead>\n",
       "    <tr style=\"text-align: right;\">\n",
       "      <th></th>\n",
       "      <th>LATITUDE</th>\n",
       "      <th>LONGITUDE</th>\n",
       "      <th>DISCOVERY_DATE</th>\n",
       "    </tr>\n",
       "  </thead>\n",
       "  <tbody>\n",
       "    <tr>\n",
       "      <th>0</th>\n",
       "      <td>37.34</td>\n",
       "      <td>-102.81</td>\n",
       "      <td>2005-07-07</td>\n",
       "    </tr>\n",
       "    <tr>\n",
       "      <th>1</th>\n",
       "      <td>39.44</td>\n",
       "      <td>-105.12</td>\n",
       "      <td>2005-06-28</td>\n",
       "    </tr>\n",
       "    <tr>\n",
       "      <th>2</th>\n",
       "      <td>37.22</td>\n",
       "      <td>-103.20</td>\n",
       "      <td>2005-07-24</td>\n",
       "    </tr>\n",
       "    <tr>\n",
       "      <th>3</th>\n",
       "      <td>37.04</td>\n",
       "      <td>-102.59</td>\n",
       "      <td>2005-07-24</td>\n",
       "    </tr>\n",
       "    <tr>\n",
       "      <th>4</th>\n",
       "      <td>37.31</td>\n",
       "      <td>-102.72</td>\n",
       "      <td>2005-07-17</td>\n",
       "    </tr>\n",
       "  </tbody>\n",
       "</table>\n",
       "</div>"
      ],
      "text/plain": [
       "   LATITUDE  LONGITUDE DISCOVERY_DATE\n",
       "0     37.34    -102.81     2005-07-07\n",
       "1     39.44    -105.12     2005-06-28\n",
       "2     37.22    -103.20     2005-07-24\n",
       "3     37.04    -102.59     2005-07-24\n",
       "4     37.31    -102.72     2005-07-17"
      ]
     },
     "execution_count": 7,
     "metadata": {},
     "output_type": "execute_result"
    }
   ],
   "source": [
    "wildfire_df = pd.read_csv('../Data/Clean Data/Wildfires/cleaned_wildfires.csv')\n",
    "wildfire_df = np.round(wildfire_df, decimals=2)\n",
    "wildfire_df['DISCOVERY_DATE'].apply(str)\n",
    "wildfire_df.head()"
   ]
  },
  {
   "cell_type": "code",
   "execution_count": 8,
   "metadata": {},
   "outputs": [
    {
     "data": {
      "text/html": [
       "<div>\n",
       "<style scoped>\n",
       "    .dataframe tbody tr th:only-of-type {\n",
       "        vertical-align: middle;\n",
       "    }\n",
       "\n",
       "    .dataframe tbody tr th {\n",
       "        vertical-align: top;\n",
       "    }\n",
       "\n",
       "    .dataframe thead th {\n",
       "        text-align: right;\n",
       "    }\n",
       "</style>\n",
       "<table border=\"1\" class=\"dataframe\">\n",
       "  <thead>\n",
       "    <tr style=\"text-align: right;\">\n",
       "      <th></th>\n",
       "      <th>time</th>\n",
       "      <th>lat</th>\n",
       "      <th>lon</th>\n",
       "      <th>fire</th>\n",
       "    </tr>\n",
       "  </thead>\n",
       "  <tbody>\n",
       "    <tr>\n",
       "      <th>0</th>\n",
       "      <td>2005-07-01</td>\n",
       "      <td>37.34</td>\n",
       "      <td>-102.81</td>\n",
       "      <td>1</td>\n",
       "    </tr>\n",
       "    <tr>\n",
       "      <th>1</th>\n",
       "      <td>2005-06-01</td>\n",
       "      <td>39.44</td>\n",
       "      <td>-105.12</td>\n",
       "      <td>1</td>\n",
       "    </tr>\n",
       "    <tr>\n",
       "      <th>2</th>\n",
       "      <td>2005-07-01</td>\n",
       "      <td>37.22</td>\n",
       "      <td>-103.20</td>\n",
       "      <td>1</td>\n",
       "    </tr>\n",
       "    <tr>\n",
       "      <th>3</th>\n",
       "      <td>2005-07-01</td>\n",
       "      <td>37.04</td>\n",
       "      <td>-102.59</td>\n",
       "      <td>1</td>\n",
       "    </tr>\n",
       "    <tr>\n",
       "      <th>4</th>\n",
       "      <td>2005-07-01</td>\n",
       "      <td>37.31</td>\n",
       "      <td>-102.72</td>\n",
       "      <td>1</td>\n",
       "    </tr>\n",
       "  </tbody>\n",
       "</table>\n",
       "</div>"
      ],
      "text/plain": [
       "         time    lat     lon  fire\n",
       "0  2005-07-01  37.34 -102.81     1\n",
       "1  2005-06-01  39.44 -105.12     1\n",
       "2  2005-07-01  37.22 -103.20     1\n",
       "3  2005-07-01  37.04 -102.59     1\n",
       "4  2005-07-01  37.31 -102.72     1"
      ]
     },
     "execution_count": 8,
     "metadata": {},
     "output_type": "execute_result"
    }
   ],
   "source": [
    "date_list = wildfire_df['DISCOVERY_DATE'].tolist()\n",
    "fire_list = []\n",
    "for i in range(len(date_list)):\n",
    "    fire_list.append(1)\n",
    "    if not date_list[i].endswith('01'):\n",
    "        date_list[i] = date_list[i][:-2] + \"01\"\n",
    "wildfire_df['time'] = date_list\n",
    "wildfire_df['fire'] = fire_list\n",
    "wildfire_df = wildfire_df.drop(['DISCOVERY_DATE'], axis=1)\n",
    "wildfire_df = wildfire_df.rename({'LATITUDE': 'lat', 'LONGITUDE': 'lon'}, axis=1)\n",
    "wildfire_df = wildfire_df[['time', 'lat', 'lon', 'fire']]\n",
    "wildfire_df.head()"
   ]
  },
  {
   "cell_type": "code",
   "execution_count": 9,
   "metadata": {},
   "outputs": [],
   "source": [
    "def closest(lst, num):\n",
    "      \n",
    "    return lst[min(range(len(lst)), key = lambda i: abs(lst[i]-num))]"
   ]
  },
  {
   "cell_type": "code",
   "execution_count": 10,
   "metadata": {},
   "outputs": [],
   "source": [
    "wildfire_lat_values = wildfire_df['lat'].tolist()\n",
    "wildfire_lon_values = wildfire_df['lon'].tolist()"
   ]
  },
  {
   "cell_type": "code",
   "execution_count": 11,
   "metadata": {},
   "outputs": [],
   "source": [
    "wildfire_lat_new = []\n",
    "for i in wildfire_lat_values:\n",
    "    wildfire_lat_new.append(closest(weather_lat_values, i))"
   ]
  },
  {
   "cell_type": "code",
   "execution_count": 12,
   "metadata": {},
   "outputs": [],
   "source": [
    "wildfire_lon_new = []\n",
    "for j in wildfire_lon_values:\n",
    "    wildfire_lon_new.append(closest(weather_lon_values, j))"
   ]
  },
  {
   "cell_type": "code",
   "execution_count": 13,
   "metadata": {},
   "outputs": [
    {
     "data": {
      "text/html": [
       "<div>\n",
       "<style scoped>\n",
       "    .dataframe tbody tr th:only-of-type {\n",
       "        vertical-align: middle;\n",
       "    }\n",
       "\n",
       "    .dataframe tbody tr th {\n",
       "        vertical-align: top;\n",
       "    }\n",
       "\n",
       "    .dataframe thead th {\n",
       "        text-align: right;\n",
       "    }\n",
       "</style>\n",
       "<table border=\"1\" class=\"dataframe\">\n",
       "  <thead>\n",
       "    <tr style=\"text-align: right;\">\n",
       "      <th></th>\n",
       "      <th>time</th>\n",
       "      <th>lat</th>\n",
       "      <th>lon</th>\n",
       "      <th>fire</th>\n",
       "    </tr>\n",
       "  </thead>\n",
       "  <tbody>\n",
       "    <tr>\n",
       "      <th>0</th>\n",
       "      <td>2005-07-01</td>\n",
       "      <td>36.98</td>\n",
       "      <td>-102.81</td>\n",
       "      <td>1</td>\n",
       "    </tr>\n",
       "    <tr>\n",
       "      <th>1</th>\n",
       "      <td>2005-06-01</td>\n",
       "      <td>36.98</td>\n",
       "      <td>-105.10</td>\n",
       "      <td>1</td>\n",
       "    </tr>\n",
       "    <tr>\n",
       "      <th>2</th>\n",
       "      <td>2005-07-01</td>\n",
       "      <td>36.98</td>\n",
       "      <td>-103.19</td>\n",
       "      <td>1</td>\n",
       "    </tr>\n",
       "    <tr>\n",
       "      <th>3</th>\n",
       "      <td>2005-07-01</td>\n",
       "      <td>36.98</td>\n",
       "      <td>-102.60</td>\n",
       "      <td>1</td>\n",
       "    </tr>\n",
       "    <tr>\n",
       "      <th>4</th>\n",
       "      <td>2005-07-01</td>\n",
       "      <td>36.98</td>\n",
       "      <td>-102.73</td>\n",
       "      <td>1</td>\n",
       "    </tr>\n",
       "  </tbody>\n",
       "</table>\n",
       "</div>"
      ],
      "text/plain": [
       "         time    lat     lon  fire\n",
       "0  2005-07-01  36.98 -102.81     1\n",
       "1  2005-06-01  36.98 -105.10     1\n",
       "2  2005-07-01  36.98 -103.19     1\n",
       "3  2005-07-01  36.98 -102.60     1\n",
       "4  2005-07-01  36.98 -102.73     1"
      ]
     },
     "execution_count": 13,
     "metadata": {},
     "output_type": "execute_result"
    }
   ],
   "source": [
    "wildfire_df_new = pd.DataFrame(columns=['time', 'lat', 'lon', 'fire'])\n",
    "wildfire_df_new['time'] = wildfire_df['time']\n",
    "wildfire_df_new['lat'] = wildfire_lat_new\n",
    "wildfire_df_new['lon'] = wildfire_lon_new\n",
    "wildfire_df_new['fire'] = wildfire_df['fire']\n",
    "wildfire_df_new.head()"
   ]
  },
  {
   "cell_type": "code",
   "execution_count": 14,
   "metadata": {},
   "outputs": [
    {
     "data": {
      "text/html": [
       "<div>\n",
       "<style scoped>\n",
       "    .dataframe tbody tr th:only-of-type {\n",
       "        vertical-align: middle;\n",
       "    }\n",
       "\n",
       "    .dataframe tbody tr th {\n",
       "        vertical-align: top;\n",
       "    }\n",
       "\n",
       "    .dataframe thead th {\n",
       "        text-align: right;\n",
       "    }\n",
       "</style>\n",
       "<table border=\"1\" class=\"dataframe\">\n",
       "  <thead>\n",
       "    <tr style=\"text-align: right;\">\n",
       "      <th></th>\n",
       "      <th>time</th>\n",
       "      <th>lat</th>\n",
       "      <th>lon</th>\n",
       "      <th>fire</th>\n",
       "    </tr>\n",
       "  </thead>\n",
       "  <tbody>\n",
       "    <tr>\n",
       "      <th>0</th>\n",
       "      <td>2005-07-01</td>\n",
       "      <td>36.98</td>\n",
       "      <td>-102.81</td>\n",
       "      <td>1</td>\n",
       "    </tr>\n",
       "    <tr>\n",
       "      <th>1</th>\n",
       "      <td>2005-06-01</td>\n",
       "      <td>36.98</td>\n",
       "      <td>-105.10</td>\n",
       "      <td>1</td>\n",
       "    </tr>\n",
       "    <tr>\n",
       "      <th>2</th>\n",
       "      <td>2005-07-01</td>\n",
       "      <td>36.98</td>\n",
       "      <td>-103.19</td>\n",
       "      <td>1</td>\n",
       "    </tr>\n",
       "    <tr>\n",
       "      <th>3</th>\n",
       "      <td>2005-07-01</td>\n",
       "      <td>36.98</td>\n",
       "      <td>-102.60</td>\n",
       "      <td>1</td>\n",
       "    </tr>\n",
       "    <tr>\n",
       "      <th>4</th>\n",
       "      <td>2005-07-01</td>\n",
       "      <td>36.98</td>\n",
       "      <td>-102.73</td>\n",
       "      <td>1</td>\n",
       "    </tr>\n",
       "  </tbody>\n",
       "</table>\n",
       "</div>"
      ],
      "text/plain": [
       "         time    lat     lon  fire\n",
       "0  2005-07-01  36.98 -102.81     1\n",
       "1  2005-06-01  36.98 -105.10     1\n",
       "2  2005-07-01  36.98 -103.19     1\n",
       "3  2005-07-01  36.98 -102.60     1\n",
       "4  2005-07-01  36.98 -102.73     1"
      ]
     },
     "execution_count": 14,
     "metadata": {},
     "output_type": "execute_result"
    }
   ],
   "source": [
    "date_list = wildfire_df_new['time'].tolist()\n",
    "date_list2 = []\n",
    "fire_list = []\n",
    "lat_list = wildfire_df_new['lat'].tolist()\n",
    "lat_list2 = []\n",
    "lon_list = wildfire_df_new['lon'].tolist()\n",
    "lon_list2 = []\n",
    "for i in range(len(date_list)):\n",
    "    if date_list[i].endswith('05-01') or date_list[i].endswith('06-01') or date_list[i].endswith('07-01') or date_list[i].endswith('08-01'):\n",
    "        fire_list.append(1)\n",
    "        date_list2.append(date_list[i])\n",
    "        lat_list2.append(lat_list[i])\n",
    "        lon_list2.append(lon_list[i])\n",
    "wildfire_df_may2aug = pd.DataFrame(columns=['time', 'lat', 'lon', 'fire'])\n",
    "wildfire_df_may2aug['time'] = date_list2\n",
    "wildfire_df_may2aug['lat'] = lat_list2\n",
    "wildfire_df_may2aug['lon'] = lon_list2\n",
    "wildfire_df_may2aug['fire'] = fire_list\n",
    "# wildfire_df_may2aug = wildfire_df_may2aug.drop(['DISCOVERY_DATE'], axis=1)\n",
    "# wildfire_df_may2aug = wildfire_df_may2aug.rename({'LATITUDE': 'lat', 'LONGITUDE': 'lon'}, axis=1)\n",
    "# wildfire_df_may2aug = wildfire_df_may2aug[['time', 'lat', 'lon', 'fire']]\n",
    "wildfire_df_may2aug.head()"
   ]
  },
  {
   "cell_type": "code",
   "execution_count": 15,
   "metadata": {},
   "outputs": [
    {
     "data": {
      "text/plain": [
       "(1010, 4)"
      ]
     },
     "execution_count": 15,
     "metadata": {},
     "output_type": "execute_result"
    }
   ],
   "source": [
    "wildfire_df_may2aug.shape"
   ]
  },
  {
   "cell_type": "code",
   "execution_count": 16,
   "metadata": {},
   "outputs": [
    {
     "data": {
      "text/html": [
       "<div>\n",
       "<style scoped>\n",
       "    .dataframe tbody tr th:only-of-type {\n",
       "        vertical-align: middle;\n",
       "    }\n",
       "\n",
       "    .dataframe tbody tr th {\n",
       "        vertical-align: top;\n",
       "    }\n",
       "\n",
       "    .dataframe thead th {\n",
       "        text-align: right;\n",
       "    }\n",
       "</style>\n",
       "<table border=\"1\" class=\"dataframe\">\n",
       "  <thead>\n",
       "    <tr style=\"text-align: right;\">\n",
       "      <th></th>\n",
       "      <th>time</th>\n",
       "      <th>lat</th>\n",
       "      <th>lon</th>\n",
       "      <th>ws</th>\n",
       "      <th>PDSI</th>\n",
       "      <th>fire</th>\n",
       "    </tr>\n",
       "  </thead>\n",
       "  <tbody>\n",
       "    <tr>\n",
       "      <th>0</th>\n",
       "      <td>1979-01-01</td>\n",
       "      <td>36.98</td>\n",
       "      <td>-109.02</td>\n",
       "      <td>2.03</td>\n",
       "      <td>4.18</td>\n",
       "      <td>NaN</td>\n",
       "    </tr>\n",
       "    <tr>\n",
       "      <th>1</th>\n",
       "      <td>1979-01-01</td>\n",
       "      <td>36.98</td>\n",
       "      <td>-108.98</td>\n",
       "      <td>2.02</td>\n",
       "      <td>4.15</td>\n",
       "      <td>NaN</td>\n",
       "    </tr>\n",
       "    <tr>\n",
       "      <th>2</th>\n",
       "      <td>1979-01-01</td>\n",
       "      <td>36.98</td>\n",
       "      <td>-108.94</td>\n",
       "      <td>2.06</td>\n",
       "      <td>4.11</td>\n",
       "      <td>NaN</td>\n",
       "    </tr>\n",
       "    <tr>\n",
       "      <th>3</th>\n",
       "      <td>1979-01-01</td>\n",
       "      <td>36.98</td>\n",
       "      <td>-108.90</td>\n",
       "      <td>2.11</td>\n",
       "      <td>4.10</td>\n",
       "      <td>NaN</td>\n",
       "    </tr>\n",
       "    <tr>\n",
       "      <th>4</th>\n",
       "      <td>1979-01-01</td>\n",
       "      <td>36.98</td>\n",
       "      <td>-108.85</td>\n",
       "      <td>2.12</td>\n",
       "      <td>3.94</td>\n",
       "      <td>NaN</td>\n",
       "    </tr>\n",
       "  </tbody>\n",
       "</table>\n",
       "</div>"
      ],
      "text/plain": [
       "         time    lat     lon    ws  PDSI  fire\n",
       "0  1979-01-01  36.98 -109.02  2.03  4.18   NaN\n",
       "1  1979-01-01  36.98 -108.98  2.02  4.15   NaN\n",
       "2  1979-01-01  36.98 -108.94  2.06  4.11   NaN\n",
       "3  1979-01-01  36.98 -108.90  2.11  4.10   NaN\n",
       "4  1979-01-01  36.98 -108.85  2.12  3.94   NaN"
      ]
     },
     "execution_count": 16,
     "metadata": {},
     "output_type": "execute_result"
    }
   ],
   "source": [
    "final_df = pd.merge(weather_df, wildfire_df_may2aug, how='outer')\n",
    "final_df.head()"
   ]
  },
  {
   "cell_type": "code",
   "execution_count": 17,
   "metadata": {},
   "outputs": [
    {
     "data": {
      "text/html": [
       "<div>\n",
       "<style scoped>\n",
       "    .dataframe tbody tr th:only-of-type {\n",
       "        vertical-align: middle;\n",
       "    }\n",
       "\n",
       "    .dataframe tbody tr th {\n",
       "        vertical-align: top;\n",
       "    }\n",
       "\n",
       "    .dataframe thead th {\n",
       "        text-align: right;\n",
       "    }\n",
       "</style>\n",
       "<table border=\"1\" class=\"dataframe\">\n",
       "  <thead>\n",
       "    <tr style=\"text-align: right;\">\n",
       "      <th></th>\n",
       "      <th>time</th>\n",
       "      <th>lat</th>\n",
       "      <th>lon</th>\n",
       "      <th>ws</th>\n",
       "      <th>PDSI</th>\n",
       "      <th>fire</th>\n",
       "    </tr>\n",
       "  </thead>\n",
       "  <tbody>\n",
       "    <tr>\n",
       "      <th>0</th>\n",
       "      <td>1979-05-01</td>\n",
       "      <td>36.98</td>\n",
       "      <td>-109.02</td>\n",
       "      <td>2.63</td>\n",
       "      <td>6.78</td>\n",
       "      <td>NaN</td>\n",
       "    </tr>\n",
       "    <tr>\n",
       "      <th>1</th>\n",
       "      <td>1979-05-01</td>\n",
       "      <td>36.98</td>\n",
       "      <td>-108.98</td>\n",
       "      <td>2.63</td>\n",
       "      <td>7.07</td>\n",
       "      <td>NaN</td>\n",
       "    </tr>\n",
       "    <tr>\n",
       "      <th>2</th>\n",
       "      <td>1979-05-01</td>\n",
       "      <td>36.98</td>\n",
       "      <td>-108.94</td>\n",
       "      <td>2.63</td>\n",
       "      <td>7.02</td>\n",
       "      <td>NaN</td>\n",
       "    </tr>\n",
       "    <tr>\n",
       "      <th>3</th>\n",
       "      <td>1979-05-01</td>\n",
       "      <td>36.98</td>\n",
       "      <td>-108.90</td>\n",
       "      <td>2.64</td>\n",
       "      <td>6.99</td>\n",
       "      <td>NaN</td>\n",
       "    </tr>\n",
       "    <tr>\n",
       "      <th>4</th>\n",
       "      <td>1979-05-01</td>\n",
       "      <td>36.98</td>\n",
       "      <td>-108.85</td>\n",
       "      <td>2.64</td>\n",
       "      <td>7.05</td>\n",
       "      <td>NaN</td>\n",
       "    </tr>\n",
       "  </tbody>\n",
       "</table>\n",
       "</div>"
      ],
      "text/plain": [
       "         time    lat     lon    ws  PDSI  fire\n",
       "0  1979-05-01  36.98 -109.02  2.63  6.78   NaN\n",
       "1  1979-05-01  36.98 -108.98  2.63  7.07   NaN\n",
       "2  1979-05-01  36.98 -108.94  2.63  7.02   NaN\n",
       "3  1979-05-01  36.98 -108.90  2.64  6.99   NaN\n",
       "4  1979-05-01  36.98 -108.85  2.64  7.05   NaN"
      ]
     },
     "execution_count": 17,
     "metadata": {},
     "output_type": "execute_result"
    }
   ],
   "source": [
    "date_list = final_df['time'].tolist()\n",
    "date_list2 = []\n",
    "lat_list = final_df['lat'].tolist()\n",
    "lat_list2 = []\n",
    "lon_list = final_df['lon'].tolist()\n",
    "lon_list2 = []\n",
    "ws_list = final_df['ws'].tolist()\n",
    "ws_list2 = []\n",
    "PDSI_list = final_df['PDSI'].tolist()\n",
    "PDSI_list2 = []\n",
    "fire_list = final_df['fire'].tolist()\n",
    "fire_list2 = []\n",
    "for i in range(len(date_list)):\n",
    "    if date_list[i].endswith('05-01') or date_list[i].endswith('06-01') or date_list[i].endswith('07-01') or date_list[i].endswith('08-01'):\n",
    "        fire_list.append(1)\n",
    "        date_list2.append(date_list[i])\n",
    "        lat_list2.append(lat_list[i])\n",
    "        lon_list2.append(lon_list[i])\n",
    "        ws_list2.append(ws_list[i])\n",
    "        PDSI_list2.append(PDSI_list[i])\n",
    "        fire_list2.append(fire_list[i])\n",
    "final_df_may2aug = pd.DataFrame(columns=['time', 'lat', 'lon', 'ws', 'PDSI', 'fire'])\n",
    "final_df_may2aug['time'] = date_list2\n",
    "final_df_may2aug['lat'] = lat_list2\n",
    "final_df_may2aug['lon'] = lon_list2\n",
    "final_df_may2aug['ws'] = ws_list2\n",
    "final_df_may2aug['PDSI'] = PDSI_list2\n",
    "final_df_may2aug['fire'] = fire_list2\n",
    "final_df_may2aug.head()"
   ]
  },
  {
   "cell_type": "code",
   "execution_count": 18,
   "metadata": {},
   "outputs": [
    {
     "data": {
      "text/html": [
       "<div>\n",
       "<style scoped>\n",
       "    .dataframe tbody tr th:only-of-type {\n",
       "        vertical-align: middle;\n",
       "    }\n",
       "\n",
       "    .dataframe tbody tr th {\n",
       "        vertical-align: top;\n",
       "    }\n",
       "\n",
       "    .dataframe thead th {\n",
       "        text-align: right;\n",
       "    }\n",
       "</style>\n",
       "<table border=\"1\" class=\"dataframe\">\n",
       "  <thead>\n",
       "    <tr style=\"text-align: right;\">\n",
       "      <th></th>\n",
       "      <th>time</th>\n",
       "      <th>lat</th>\n",
       "      <th>lon</th>\n",
       "      <th>ws</th>\n",
       "      <th>PDSI</th>\n",
       "      <th>fire</th>\n",
       "    </tr>\n",
       "  </thead>\n",
       "  <tbody>\n",
       "    <tr>\n",
       "      <th>25175</th>\n",
       "      <td>2015-08-01</td>\n",
       "      <td>36.98</td>\n",
       "      <td>-102.19</td>\n",
       "      <td>3.93</td>\n",
       "      <td>5.94</td>\n",
       "      <td>NaN</td>\n",
       "    </tr>\n",
       "    <tr>\n",
       "      <th>25176</th>\n",
       "      <td>2015-08-01</td>\n",
       "      <td>36.98</td>\n",
       "      <td>-102.15</td>\n",
       "      <td>3.93</td>\n",
       "      <td>5.76</td>\n",
       "      <td>NaN</td>\n",
       "    </tr>\n",
       "    <tr>\n",
       "      <th>25177</th>\n",
       "      <td>2015-08-01</td>\n",
       "      <td>36.98</td>\n",
       "      <td>-102.10</td>\n",
       "      <td>3.92</td>\n",
       "      <td>5.54</td>\n",
       "      <td>NaN</td>\n",
       "    </tr>\n",
       "    <tr>\n",
       "      <th>25178</th>\n",
       "      <td>2015-08-01</td>\n",
       "      <td>36.98</td>\n",
       "      <td>-102.06</td>\n",
       "      <td>3.92</td>\n",
       "      <td>5.37</td>\n",
       "      <td>NaN</td>\n",
       "    </tr>\n",
       "    <tr>\n",
       "      <th>25179</th>\n",
       "      <td>2015-08-01</td>\n",
       "      <td>36.98</td>\n",
       "      <td>-102.02</td>\n",
       "      <td>3.92</td>\n",
       "      <td>4.87</td>\n",
       "      <td>NaN</td>\n",
       "    </tr>\n",
       "  </tbody>\n",
       "</table>\n",
       "</div>"
      ],
      "text/plain": [
       "             time    lat     lon    ws  PDSI  fire\n",
       "25175  2015-08-01  36.98 -102.19  3.93  5.94   NaN\n",
       "25176  2015-08-01  36.98 -102.15  3.93  5.76   NaN\n",
       "25177  2015-08-01  36.98 -102.10  3.92  5.54   NaN\n",
       "25178  2015-08-01  36.98 -102.06  3.92  5.37   NaN\n",
       "25179  2015-08-01  36.98 -102.02  3.92  4.87   NaN"
      ]
     },
     "execution_count": 18,
     "metadata": {},
     "output_type": "execute_result"
    }
   ],
   "source": [
    "final_df_may2aug = final_df_may2aug[final_df_may2aug['time'].between('2000-05-01', '2015-08-01')]\n",
    "final_df_may2aug.tail()"
   ]
  },
  {
   "cell_type": "code",
   "execution_count": 19,
   "metadata": {},
   "outputs": [],
   "source": [
    "final_df_may2aug = final_df_may2aug[final_df_may2aug['ws'].notna()]\n",
    "final_df_may2aug = final_df_may2aug[final_df_may2aug['PDSI'].notna()]\n",
    "final_df_may2aug[['fire']] = final_df_may2aug[['fire']].fillna(value=0)\n",
    "final_df_may2aug.fire = final_df_may2aug.fire.astype(int)\n",
    "# print (sum(final_df_may2aug['fire']))\n",
    "# final_df_may2aug.dtypes\n",
    "# print(final_df_may2aug['fire'].unique())\n",
    "final_df_may2aug_nofire = final_df_may2aug[final_df_may2aug['fire'] == 0]\n",
    "final_df_may2aug_fireonly = final_df_may2aug[final_df_may2aug['fire'] == 1]\n",
    "# final_df_may2aug_nofire.head()\n",
    "# final_df_may2aug_fireonly.head()"
   ]
  },
  {
   "cell_type": "code",
   "execution_count": 20,
   "metadata": {},
   "outputs": [
    {
     "data": {
      "text/html": [
       "<div>\n",
       "<style scoped>\n",
       "    .dataframe tbody tr th:only-of-type {\n",
       "        vertical-align: middle;\n",
       "    }\n",
       "\n",
       "    .dataframe tbody tr th {\n",
       "        vertical-align: top;\n",
       "    }\n",
       "\n",
       "    .dataframe thead th {\n",
       "        text-align: right;\n",
       "    }\n",
       "</style>\n",
       "<table border=\"1\" class=\"dataframe\">\n",
       "  <thead>\n",
       "    <tr style=\"text-align: right;\">\n",
       "      <th></th>\n",
       "      <th>time</th>\n",
       "      <th>lat</th>\n",
       "      <th>lon</th>\n",
       "      <th>ws</th>\n",
       "      <th>PDSI</th>\n",
       "      <th>fire</th>\n",
       "    </tr>\n",
       "  </thead>\n",
       "  <tbody>\n",
       "    <tr>\n",
       "      <th>0</th>\n",
       "      <td>2000-05-01</td>\n",
       "      <td>36.98</td>\n",
       "      <td>-108.85</td>\n",
       "      <td>3.60</td>\n",
       "      <td>-3.66</td>\n",
       "      <td>1</td>\n",
       "    </tr>\n",
       "    <tr>\n",
       "      <th>1</th>\n",
       "      <td>2000-05-01</td>\n",
       "      <td>36.98</td>\n",
       "      <td>-108.69</td>\n",
       "      <td>3.63</td>\n",
       "      <td>-4.02</td>\n",
       "      <td>1</td>\n",
       "    </tr>\n",
       "    <tr>\n",
       "      <th>2</th>\n",
       "      <td>2000-05-01</td>\n",
       "      <td>36.98</td>\n",
       "      <td>-108.65</td>\n",
       "      <td>3.67</td>\n",
       "      <td>-4.12</td>\n",
       "      <td>1</td>\n",
       "    </tr>\n",
       "    <tr>\n",
       "      <th>3</th>\n",
       "      <td>2000-05-01</td>\n",
       "      <td>36.98</td>\n",
       "      <td>-108.56</td>\n",
       "      <td>3.69</td>\n",
       "      <td>-4.10</td>\n",
       "      <td>1</td>\n",
       "    </tr>\n",
       "    <tr>\n",
       "      <th>4</th>\n",
       "      <td>2000-05-01</td>\n",
       "      <td>36.98</td>\n",
       "      <td>-108.52</td>\n",
       "      <td>3.66</td>\n",
       "      <td>-4.10</td>\n",
       "      <td>1</td>\n",
       "    </tr>\n",
       "  </tbody>\n",
       "</table>\n",
       "</div>"
      ],
      "text/plain": [
       "         time    lat     lon    ws  PDSI  fire\n",
       "0  2000-05-01  36.98 -108.85  3.60 -3.66     1\n",
       "1  2000-05-01  36.98 -108.69  3.63 -4.02     1\n",
       "2  2000-05-01  36.98 -108.65  3.67 -4.12     1\n",
       "3  2000-05-01  36.98 -108.56  3.69 -4.10     1\n",
       "4  2000-05-01  36.98 -108.52  3.66 -4.10     1"
      ]
     },
     "execution_count": 20,
     "metadata": {},
     "output_type": "execute_result"
    }
   ],
   "source": [
    "final_df_may2aug_nofire = final_df_may2aug_nofire.head(final_df_may2aug_fireonly.shape[0])\n",
    "final_df_may2aug_equal = final_df_may2aug_fireonly.append(final_df_may2aug_nofire, ignore_index=True)\n",
    "final_df_may2aug_equal.head()"
   ]
  },
  {
   "cell_type": "code",
   "execution_count": 21,
   "metadata": {},
   "outputs": [],
   "source": [
    "#NOTE: Only run this if you want to get a csv from the data\n",
    "# final_df_may2aug_equal.to_csv(\"../Data/Clean Data/final_data.csv\", encoding='utf-8', index=False)"
   ]
  },
  {
   "cell_type": "code",
   "execution_count": 22,
   "metadata": {},
   "outputs": [],
   "source": [
    "# Split up the independent and dependent variables, where the independent variables are the lattitude, longitude, wind speed, and PDSI. The dependent is whether there was a fire or not\n",
    "x = final_df_may2aug_equal[['lat','lon','ws', 'PDSI']]\n",
    "y = final_df_may2aug_equal['fire']\n",
    "\n",
    "# Pick what fraction of the data you want to be the testing data\n",
    "fraction_split = 0.1"
   ]
  },
  {
   "cell_type": "code",
   "execution_count": 23,
   "metadata": {},
   "outputs": [
    {
     "name": "stdout",
     "output_type": "stream",
     "text": [
      "        lat     lon    ws  PDSI\n",
      "715   36.98 -108.60  2.67  2.61\n",
      "1063  36.98 -106.31  4.94 -1.53\n",
      "159   36.98 -103.77  5.70 -3.64\n",
      "706   36.98 -104.35  5.45  0.93\n",
      "411   36.98 -103.15  4.97 -1.56\n",
      "...     ...     ...   ...   ...\n",
      "628   36.98 -107.85  2.71  0.66\n",
      "292   36.98 -109.02  2.22 -3.21\n",
      "1078  36.98 -105.69  4.69 -3.36\n",
      "488   36.98 -108.44  2.41 -3.30\n",
      "828   36.98 -107.52  3.28 -3.07\n",
      "\n",
      "[1818 rows x 4 columns]\n"
     ]
    }
   ],
   "source": [
    "#split the data into training and testing data using sklearn function train_test_split\n",
    "train_x, test_x, train_y, test_y = train_test_split(x,y, test_size=fraction_split)\n",
    "print(train_x)"
   ]
  },
  {
   "cell_type": "code",
   "execution_count": 24,
   "metadata": {},
   "outputs": [
    {
     "name": "stdout",
     "output_type": "stream",
     "text": [
      "        lat     lon    ws  PDSI  fire\n",
      "715   36.98 -108.60  2.67  2.61     1\n",
      "1063  36.98 -106.31  4.94 -1.53     0\n",
      "159   36.98 -103.77  5.70 -3.64     1\n",
      "706   36.98 -104.35  5.45  0.93     1\n",
      "411   36.98 -103.15  4.97 -1.56     1\n",
      "...     ...     ...   ...   ...   ...\n",
      "628   36.98 -107.85  2.71  0.66     1\n",
      "292   36.98 -109.02  2.22 -3.21     1\n",
      "1078  36.98 -105.69  4.69 -3.36     0\n",
      "488   36.98 -108.44  2.41 -3.30     1\n",
      "828   36.98 -107.52  3.28 -3.07     1\n",
      "\n",
      "[1818 rows x 5 columns]\n"
     ]
    }
   ],
   "source": [
    "# Output the training and testing data to two csvs in Clean Data folder\n",
    "train_x = pd.DataFrame(train_x)\n",
    "train_y = pd.DataFrame(train_y)\n",
    "\n",
    "test_x = pd.DataFrame(test_x)\n",
    "test_y = pd.DataFrame(test_y)\n",
    "\n",
    "\n",
    "training_data = train_x.assign(fire = train_y)\n",
    "testing_data = test_x.assign(fire = test_y)\n",
    "\n",
    "print(training_data)\n",
    "# training_data.to_csv(\"../Data/Clean Data/training_data.csv\", encoding='utf-8', index=False)\n",
    "# testing_data.to_csv(\"../Data/Clean Data/testing_data.csv\", encoding='utf-8', index=False)"
   ]
  },
  {
   "cell_type": "code",
   "execution_count": 25,
   "metadata": {},
   "outputs": [
    {
     "name": "stderr",
     "output_type": "stream",
     "text": [
      "C:\\Users\\Cole\\AppData\\Local\\Programs\\Python\\Python39\\lib\\site-packages\\sklearn\\utils\\validation.py:985: DataConversionWarning: A column-vector y was passed when a 1d array was expected. Please change the shape of y to (n_samples, ), for example using ravel().\n",
      "  y = column_or_1d(y, warn=True)\n"
     ]
    },
    {
     "data": {
      "text/plain": [
       "SVC()"
      ]
     },
     "execution_count": 25,
     "metadata": {},
     "output_type": "execute_result"
    }
   ],
   "source": [
    "model = svm.SVC()\n",
    "model.fit(train_x, train_y)"
   ]
  },
  {
   "cell_type": "code",
   "execution_count": 26,
   "metadata": {},
   "outputs": [],
   "source": [
    "y_pred = model.predict(test_x)"
   ]
  },
  {
   "cell_type": "code",
   "execution_count": 27,
   "metadata": {},
   "outputs": [
    {
     "name": "stdout",
     "output_type": "stream",
     "text": [
      "[0 0 1 1 1 1 0 1 1 0 0 1 0 1 0 1 1 1 0 0 0 1 0 0 1 0 1 0 0 0 1 0 1 1 1 0 0\n",
      " 1 1 1 1 0 1 1 0 1 1 1 1 1 1 0 1 1 0 1 0 1 0 1 1 1 0 0 1 0 1 1 0 1 0 1 1 1\n",
      " 0 0 1 1 0 1 1 0 1 1 0 1 0 0 1 0 0 1 1 0 0 1 0 1 1 0 1 0 0 0 0 1 1 1 0 1 1\n",
      " 0 1 1 1 0 1 1 1 0 1 0 0 0 1 1 1 1 1 1 1 1 1 1 1 0 0 1 0 0 1 1 0 0 1 1 0 1\n",
      " 0 0 0 0 1 0 1 1 1 1 1 0 0 1 1 1 1 0 0 0 1 1 1 1 1 0 0 1 0 0 1 1 1 1 1 0 1\n",
      " 1 1 0 0 1 1 0 1 1 1 0 0 1 0 0 1 1]\n"
     ]
    }
   ],
   "source": [
    "print(y_pred)"
   ]
  },
  {
   "cell_type": "code",
   "execution_count": 28,
   "metadata": {},
   "outputs": [
    {
     "name": "stdout",
     "output_type": "stream",
     "text": [
      "Score: 0.6831683168316832\n"
     ]
    }
   ],
   "source": [
    "print(\"Score:\", accuracy_score(test_y, y_pred))"
   ]
  },
  {
   "cell_type": "code",
   "execution_count": 29,
   "metadata": {},
   "outputs": [
    {
     "name": "stderr",
     "output_type": "stream",
     "text": [
      "C:\\Users\\Cole\\AppData\\Local\\Temp/ipykernel_22644/3788452596.py:2: SettingWithCopyWarning: \n",
      "A value is trying to be set on a copy of a slice from a DataFrame.\n",
      "Try using .loc[row_indexer,col_indexer] = value instead\n",
      "\n",
      "See the caveats in the documentation: https://pandas.pydata.org/pandas-docs/stable/user_guide/indexing.html#returning-a-view-versus-a-copy\n",
      "  df_final['fire'] = y_pred\n"
     ]
    }
   ],
   "source": [
    "df_final = test_x.iloc[:, 2:4]\n",
    "df_final['fire'] = y_pred\n",
    "# print (df_final)"
   ]
  },
  {
   "cell_type": "code",
   "execution_count": 30,
   "metadata": {},
   "outputs": [],
   "source": [
    "def heat_map(df, size=10):\n",
    "    corr = df.corr()  #the default method is pearson\n",
    "    fig, ax = plt.subplots(figsize=(size, size))\n",
    "    ax.matshow(corr,cmap=plt.cm.Oranges)\n",
    "    plt.xticks(range(len(corr.columns)), corr.columns)\n",
    "    plt.yticks(range(len(corr.columns)), corr.columns)\n",
    "    for tick in ax.get_xticklabels():\n",
    "        tick.set_rotation(45)    \n",
    "    plt.show()"
   ]
  },
  {
   "cell_type": "code",
   "execution_count": 31,
   "metadata": {},
   "outputs": [
    {
     "data": {
      "text/plain": [
       "<AxesSubplot:>"
      ]
     },
     "execution_count": 31,
     "metadata": {},
     "output_type": "execute_result"
    },
    {
     "data": {
      "image/png": "[encoded data removed]",
      "text/plain": [
       "<Figure size 432x288 with 2 Axes>"
      ]
     },
     "metadata": {
      "needs_background": "light"
     },
     "output_type": "display_data"
    }
   ],
   "source": [
    "corr = df_final.corr()\n",
    "sns.heatmap(corr, \n",
    "            xticklabels=corr.columns.values,\n",
    "            yticklabels=corr.columns.values)"
   ]
  },
  {
   "cell_type": "code",
   "execution_count": 32,
   "metadata": {},
   "outputs": [
    {
     "name": "stdout",
     "output_type": "stream",
     "text": [
      "        lat     lon    ws  PDSI  fire\n",
      "1991  36.98 -106.15  3.27  1.48     0\n",
      "1888  36.98 -104.27  4.95  1.82     0\n",
      "908   36.98 -106.94  3.52 -4.69     1\n",
      "1650  36.98 -107.65  3.48  1.23     0\n",
      "867   36.98 -108.65  2.41 -2.56     1\n",
      "...     ...     ...   ...   ...   ...\n",
      "600   36.98 -108.19  2.43  1.71     1\n",
      "400   36.98 -105.35  4.29  1.01     1\n",
      "1566  36.98 -104.23  4.02 -3.11     0\n",
      "1169  36.98 -108.73  2.99 -3.84     0\n",
      "1943  36.98 -108.77  2.67 -1.72     0\n",
      "\n",
      "[202 rows x 5 columns]\n"
     ]
    }
   ],
   "source": [
    "print (testing_data)"
   ]
  },
  {
   "cell_type": "code",
   "execution_count": 33,
   "metadata": {},
   "outputs": [
    {
     "name": "stdout",
     "output_type": "stream",
     "text": [
      "The model did not predict all of the actual fires.\n",
      "There were 25 unidentified fires.\n",
      "There were 80 correctly identified fires.\n",
      "There were 39 incorrectly identified fires.\n"
     ]
    }
   ],
   "source": [
    "if sum(testing_data['fire']) == sum(testing_data['fire']&df_final['fire']):\n",
    "    print(\"The model correctly predict all of the actual fires\")\n",
    "else:\n",
    "    print(\"The model did not predict all of the actual fires.\")\n",
    "    print(\"There were\", sum(testing_data['fire'])-sum(testing_data['fire']&df_final['fire']),\"unidentified fires.\")\n",
    "    print(\"There were\",sum(testing_data['fire']&df_final['fire']),\"correctly identified fires.\")\n",
    "    print(\"There were\",sum(df_final['fire'])-sum(testing_data['fire']&df_final['fire']),\"incorrectly identified fires.\")"
   ]
  },
  {
   "cell_type": "code",
   "execution_count": null,
   "metadata": {},
   "outputs": [],
   "source": []
  }
 ],
 "metadata": {
  "kernelspec": {
   "display_name": "Python 3 (ipykernel)",
   "language": "python",
   "name": "python3"
  },
  "language_info": {
   "codemirror_mode": {
    "name": "ipython",
    "version": 3
   },
   "file_extension": ".py",
   "mimetype": "text/x-python",
   "name": "python",
   "nbconvert_exporter": "python",
   "pygments_lexer": "ipython3",
   "version": "3.9.1"
  }
 },
 "nbformat": 4,
 "nbformat_minor": 4
}

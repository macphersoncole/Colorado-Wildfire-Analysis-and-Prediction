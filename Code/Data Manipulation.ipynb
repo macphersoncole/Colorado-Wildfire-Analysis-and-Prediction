{
 "cells": [
  {
   "cell_type": "code",
   "execution_count": 51,
   "metadata": {},
   "outputs": [
    {
     "name": "stderr",
     "output_type": "stream",
     "text": [
      "C:\\Users\\aweso\\anaconda3\\lib\\site-packages\\xarray\\coding\\times.py:526: SerializationWarning: Unable to decode time axis into full numpy.datetime64 objects, continuing using cftime.datetime objects instead, reason: dates out of range\n",
      "  dtype = _decode_cf_datetime_dtype(data, units, calendar, self.use_cftime)\n",
      "C:\\Users\\aweso\\anaconda3\\lib\\site-packages\\numpy\\core\\_asarray.py:85: SerializationWarning: Unable to decode time axis into full numpy.datetime64 objects, continuing using cftime.datetime objects instead, reason: dates out of range\n",
      "  return array(a, dtype, copy=False, order=order)\n"
     ]
    },
    {
     "name": "stdout",
     "output_type": "stream",
     "text": [
      "<xarray.Dataset>\n",
      "Dimensions:  (lat: 72, lon: 144, time: 514)\n",
      "Coordinates:\n",
      "  * lat      (lat) float32 88.75 86.25 83.75 81.25 ... -83.75 -86.25 -88.75\n",
      "  * lon      (lon) float32 1.25 3.75 6.25 8.75 11.25 ... 351.2 353.8 356.2 358.8\n",
      "  * time     (time) datetime64[ns] 1979-01-01 1979-02-01 ... 2021-10-01\n",
      "Data variables:\n",
      "    precip   (time, lat, lon) float32 ...\n",
      "Attributes:\n",
      "    Conventions:    COARDS\n",
      "    title:          CPC Merged Analysis of Precipitation (includes NCEP Reana...\n",
      "    platform:       Analyses\n",
      "    source:         ftp ftp.cpc.ncep.noaa.gov precip/cmap/monthly\n",
      "    dataset_title:  CPC Merged Analysis of Precipitation\n",
      "    documentation:  https://www.esrl.noaa.gov/psd/data/gridded/data.cmap.html\n",
      "    date_modified:  26 Feb 2019\n",
      "    References:     https://www.psl.noaa.gov/data/gridded/data.cmap.html\n",
      "    version:        V2111\n",
      "    history:        update 11/2021 V2111\n",
      "    data_modified:  2021-11-09\n"
     ]
    }
   ],
   "source": [
    "import netCDF4\n",
    "import pandas as pd\n",
    "import xarray as xr\n",
    "pr = xr.open_dataset('../../Colorado-Wildfire-Analysis-and-Prediction/data/new_raw_data/precip.mon.mean.nc')\n",
    "temp = xr.open_dataset('../../Colorado-Wildfire-Analysis-and-Prediction/data/new_raw_data/air.mon.anom.1981-2010.nc')\n",
    "# data = pd.read_csv(\"../../Colorado-Wildfire-Analysis-and-Prediction/data/new_raw_data/fires.csv\")\n",
    "# nc = netCDF4.Dataset(\"../../Colorado-Wildfire-Analysis-and-Prediction/data/new_raw_data/air.mon.anom.1981-2010.nc\", mode='r')\n",
    "temp.air.to_dataframe().to_csv('temp.csv')\n",
    "pr.precip.to_dataframe().to_csv('precip.csv')\n",
    "print(pr)"
   ]
  },
  {
   "cell_type": "code",
   "execution_count": 43,
   "metadata": {},
   "outputs": [
    {
     "name": "stdout",
     "output_type": "stream",
     "text": [
      "                    time   lat    lon       air\n",
      "210  0001-01-01 00:00:00 -77.5  332.5  0.311546\n",
      "218  0001-01-01 00:00:00 -72.5   12.5  0.074957\n",
      "249  0001-01-01 00:00:00 -72.5  167.5  0.036657\n",
      "250  0001-01-01 00:00:00 -72.5  172.5 -0.001475\n",
      "251  0001-01-01 00:00:00 -72.5  177.5  0.043985\n",
      "         time    lat    lon  precip\n",
      "0  1979-01-01  88.75   1.25    0.21\n",
      "1  1979-01-01  88.75   3.75    0.21\n",
      "2  1979-01-01  88.75   6.25    0.21\n",
      "3  1979-01-01  88.75   8.75    0.20\n",
      "4  1979-01-01  88.75  11.25    0.20\n"
     ]
    }
   ],
   "source": [
    "data = pd.read_csv('temp.csv')\n",
    "data_precip = pd.read_csv('precip.csv')\n",
    "data = data.dropna()\n",
    "data_precip = data_precip.dropna()\n",
    "print(data.head(5))\n",
    "print(data_precip.head(5))\n",
    "# print(nc)\n",
    "# precip.to_pandas().to_csv('clim.csv')"
   ]
  },
  {
   "cell_type": "code",
   "execution_count": 44,
   "metadata": {},
   "outputs": [
    {
     "data": {
      "text/plain": [
       "(24, 4)"
      ]
     },
     "execution_count": 44,
     "metadata": {},
     "output_type": "execute_result"
    }
   ],
   "source": [
    "data = data.drop(data[data['lat'] <= 37].index)\n",
    "data = data.drop(data[data['lat'] >= 41].index)\n",
    "data = data.drop(data[data['lon'] <= 251].index)\n",
    "data = data.drop(data[data['lon'] >= 258].index)\n",
    "\n",
    "\n",
    "# data.head(15)\n",
    "# print(data['lat'].max())\n",
    "# print(data['lat'].min())\n",
    "\n",
    "# print(data['lon'].min())\n",
    "# print(data['lon'].max())\n",
    "\n",
    "# # a pandas.Series designed for time series of a 2D lat,lon grid\n",
    "# precip_ts = pd.Series(precip, index=dtime) \n",
    "data.shape\n",
    "# precip_ts.to_csv('precip.csv',index=True, header=True)\n",
    "# 37 N 41 N 102 3 min west, 109 3 min west"
   ]
  },
  {
   "cell_type": "code",
   "execution_count": 49,
   "metadata": {},
   "outputs": [
    {
     "data": {
      "text/html": [
       "<div>\n",
       "<style scoped>\n",
       "    .dataframe tbody tr th:only-of-type {\n",
       "        vertical-align: middle;\n",
       "    }\n",
       "\n",
       "    .dataframe tbody tr th {\n",
       "        vertical-align: top;\n",
       "    }\n",
       "\n",
       "    .dataframe thead th {\n",
       "        text-align: right;\n",
       "    }\n",
       "</style>\n",
       "<table border=\"1\" class=\"dataframe\">\n",
       "  <thead>\n",
       "    <tr style=\"text-align: right;\">\n",
       "      <th></th>\n",
       "      <th>time</th>\n",
       "      <th>lat</th>\n",
       "      <th>lon</th>\n",
       "      <th>precip</th>\n",
       "    </tr>\n",
       "  </thead>\n",
       "  <tbody>\n",
       "    <tr>\n",
       "      <th>2921</th>\n",
       "      <td>1979-01-01</td>\n",
       "      <td>38.75</td>\n",
       "      <td>103.75</td>\n",
       "      <td>0.03</td>\n",
       "    </tr>\n",
       "    <tr>\n",
       "      <th>2922</th>\n",
       "      <td>1979-01-01</td>\n",
       "      <td>38.75</td>\n",
       "      <td>106.25</td>\n",
       "      <td>0.01</td>\n",
       "    </tr>\n",
       "    <tr>\n",
       "      <th>2923</th>\n",
       "      <td>1979-01-01</td>\n",
       "      <td>38.75</td>\n",
       "      <td>108.75</td>\n",
       "      <td>0.00</td>\n",
       "    </tr>\n",
       "    <tr>\n",
       "      <th>13289</th>\n",
       "      <td>1979-02-01</td>\n",
       "      <td>38.75</td>\n",
       "      <td>103.75</td>\n",
       "      <td>0.02</td>\n",
       "    </tr>\n",
       "    <tr>\n",
       "      <th>13290</th>\n",
       "      <td>1979-02-01</td>\n",
       "      <td>38.75</td>\n",
       "      <td>106.25</td>\n",
       "      <td>0.07</td>\n",
       "    </tr>\n",
       "    <tr>\n",
       "      <th>13291</th>\n",
       "      <td>1979-02-01</td>\n",
       "      <td>38.75</td>\n",
       "      <td>108.75</td>\n",
       "      <td>0.26</td>\n",
       "    </tr>\n",
       "    <tr>\n",
       "      <th>23657</th>\n",
       "      <td>1979-03-01</td>\n",
       "      <td>38.75</td>\n",
       "      <td>103.75</td>\n",
       "      <td>0.14</td>\n",
       "    </tr>\n",
       "    <tr>\n",
       "      <th>23658</th>\n",
       "      <td>1979-03-01</td>\n",
       "      <td>38.75</td>\n",
       "      <td>106.25</td>\n",
       "      <td>0.18</td>\n",
       "    </tr>\n",
       "    <tr>\n",
       "      <th>23659</th>\n",
       "      <td>1979-03-01</td>\n",
       "      <td>38.75</td>\n",
       "      <td>108.75</td>\n",
       "      <td>0.29</td>\n",
       "    </tr>\n",
       "    <tr>\n",
       "      <th>34025</th>\n",
       "      <td>1979-04-01</td>\n",
       "      <td>38.75</td>\n",
       "      <td>103.75</td>\n",
       "      <td>0.18</td>\n",
       "    </tr>\n",
       "  </tbody>\n",
       "</table>\n",
       "</div>"
      ],
      "text/plain": [
       "             time    lat     lon  precip\n",
       "2921   1979-01-01  38.75  103.75    0.03\n",
       "2922   1979-01-01  38.75  106.25    0.01\n",
       "2923   1979-01-01  38.75  108.75    0.00\n",
       "13289  1979-02-01  38.75  103.75    0.02\n",
       "13290  1979-02-01  38.75  106.25    0.07\n",
       "13291  1979-02-01  38.75  108.75    0.26\n",
       "23657  1979-03-01  38.75  103.75    0.14\n",
       "23658  1979-03-01  38.75  106.25    0.18\n",
       "23659  1979-03-01  38.75  108.75    0.29\n",
       "34025  1979-04-01  38.75  103.75    0.18"
      ]
     },
     "execution_count": 49,
     "metadata": {},
     "output_type": "execute_result"
    }
   ],
   "source": [
    "data_precip = data_precip.drop(data_precip[data_precip['lat'] < 37].index)\n",
    "data_precip = data_precip.drop(data_precip[data_precip['lat'] > 41].index)\n",
    "data_precip = data_precip.drop(data_precip[data_precip['lon'] < 102].index)\n",
    "data_precip = data_precip.drop(data_precip[data_precip['lon'] > 109].index)\n",
    "data_precip.head(10)\n",
    "# print(data_precip['time'].max())\n",
    "# data_precip.shape"
   ]
  },
  {
   "cell_type": "code",
   "execution_count": 19,
   "metadata": {},
   "outputs": [
    {
     "name": "stdout",
     "output_type": "stream",
     "text": [
      "[37.5]\n",
      "[102.5 107.5]\n",
      "[38.75]\n",
      "[103.75 106.25 108.75]\n"
     ]
    }
   ],
   "source": [
    "print(data['lat'].unique())\n",
    "print(data['lon'].unique())\n",
    "print(data_precip['lat'].unique())\n",
    "print(data_precip['lon'].unique())"
   ]
  },
  {
   "cell_type": "code",
   "execution_count": 21,
   "metadata": {},
   "outputs": [
    {
     "data": {
      "text/plain": [
       "(24, 4)"
      ]
     },
     "execution_count": 21,
     "metadata": {},
     "output_type": "execute_result"
    }
   ],
   "source": [
    "data.shape"
   ]
  },
  {
   "cell_type": "code",
   "execution_count": 22,
   "metadata": {},
   "outputs": [
    {
     "data": {
      "text/plain": [
       "(1542, 4)"
      ]
     },
     "execution_count": 22,
     "metadata": {},
     "output_type": "execute_result"
    }
   ],
   "source": [
    "data_precip.shape"
   ]
  },
  {
   "cell_type": "code",
   "execution_count": 45,
   "metadata": {},
   "outputs": [
    {
     "data": {
      "text/plain": [
       "(4017, 5)"
      ]
     },
     "execution_count": 45,
     "metadata": {},
     "output_type": "execute_result"
    }
   ],
   "source": [
    "cole_data = pd.read_csv('../../Colorado-Wildfire-Analysis-and-Prediction/data/Clean Data/weather/weatherAvg_CLEANED.csv')\n",
    "cole_data.shape"
   ]
  },
  {
   "cell_type": "code",
   "execution_count": 46,
   "metadata": {},
   "outputs": [
    {
     "data": {
      "text/html": [
       "<div>\n",
       "<style scoped>\n",
       "    .dataframe tbody tr th:only-of-type {\n",
       "        vertical-align: middle;\n",
       "    }\n",
       "\n",
       "    .dataframe tbody tr th {\n",
       "        vertical-align: top;\n",
       "    }\n",
       "\n",
       "    .dataframe thead th {\n",
       "        text-align: right;\n",
       "    }\n",
       "</style>\n",
       "<table border=\"1\" class=\"dataframe\">\n",
       "  <thead>\n",
       "    <tr style=\"text-align: right;\">\n",
       "      <th></th>\n",
       "      <th>Dates</th>\n",
       "      <th>Max Temp</th>\n",
       "      <th>Min Temp</th>\n",
       "      <th>Pcpn</th>\n",
       "      <th>Snow</th>\n",
       "    </tr>\n",
       "  </thead>\n",
       "  <tbody>\n",
       "    <tr>\n",
       "      <th>0</th>\n",
       "      <td>01-Jan-2009</td>\n",
       "      <td>43.111111</td>\n",
       "      <td>17.625000</td>\n",
       "      <td>0.000000</td>\n",
       "      <td>0.000000</td>\n",
       "    </tr>\n",
       "    <tr>\n",
       "      <th>1</th>\n",
       "      <td>02-Jan-2009</td>\n",
       "      <td>49.444444</td>\n",
       "      <td>20.000000</td>\n",
       "      <td>0.005000</td>\n",
       "      <td>0.150000</td>\n",
       "    </tr>\n",
       "    <tr>\n",
       "      <th>2</th>\n",
       "      <td>03-Jan-2009</td>\n",
       "      <td>48.888889</td>\n",
       "      <td>18.000000</td>\n",
       "      <td>0.065556</td>\n",
       "      <td>0.922222</td>\n",
       "    </tr>\n",
       "    <tr>\n",
       "      <th>3</th>\n",
       "      <td>04-Jan-2009</td>\n",
       "      <td>31.666667</td>\n",
       "      <td>4.666667</td>\n",
       "      <td>0.015000</td>\n",
       "      <td>0.650000</td>\n",
       "    </tr>\n",
       "    <tr>\n",
       "      <th>4</th>\n",
       "      <td>05-Jan-2009</td>\n",
       "      <td>25.222222</td>\n",
       "      <td>1.111111</td>\n",
       "      <td>0.021250</td>\n",
       "      <td>0.288889</td>\n",
       "    </tr>\n",
       "  </tbody>\n",
       "</table>\n",
       "</div>"
      ],
      "text/plain": [
       "         Dates   Max Temp   Min Temp      Pcpn      Snow\n",
       "0  01-Jan-2009  43.111111  17.625000  0.000000  0.000000\n",
       "1  02-Jan-2009  49.444444  20.000000  0.005000  0.150000\n",
       "2  03-Jan-2009  48.888889  18.000000  0.065556  0.922222\n",
       "3  04-Jan-2009  31.666667   4.666667  0.015000  0.650000\n",
       "4  05-Jan-2009  25.222222   1.111111  0.021250  0.288889"
      ]
     },
     "execution_count": 46,
     "metadata": {},
     "output_type": "execute_result"
    }
   ],
   "source": [
    "cole_data.head()"
   ]
  },
  {
   "cell_type": "code",
   "execution_count": 47,
   "metadata": {},
   "outputs": [
    {
     "data": {
      "text/plain": [
       "array(['01-Jan-2009', '02-Jan-2009', '03-Jan-2009', ..., '29-Dec-2019',\n",
       "       '30-Dec-2019', '31-Dec-2019'], dtype=object)"
      ]
     },
     "execution_count": 47,
     "metadata": {},
     "output_type": "execute_result"
    }
   ],
   "source": [
    "cole_data[\"Dates\"].unique()"
   ]
  },
  {
   "cell_type": "code",
   "execution_count": 50,
   "metadata": {},
   "outputs": [
    {
     "name": "stdout",
     "output_type": "stream",
     "text": [
      "<xarray.Dataset>\n",
      "Dimensions:  (time: 504, lat: 97, lon: 169)\n",
      "Coordinates:\n",
      "  * time     (time) datetime64[ns] 1979-01-01 1979-02-01 ... 2020-12-01\n",
      "  * lat      (lat) float64 40.98 40.94 40.9 40.85 ... 37.1 37.06 37.02 36.98\n",
      "  * lon      (lon) float64 -109.0 -109.0 -108.9 -108.9 ... -102.1 -102.1 -102.0\n",
      "Data variables:\n",
      "    ws       (time, lat, lon) float32 ...\n",
      "Attributes: (12/50)\n",
      "    method:                          These layers from TerraClimate were crea...\n",
      "    title:                           TerraClimate: monthly climate and climat...\n",
      "    summary:                         This archive contains a dataset of high-...\n",
      "    keywords:                        WORLDCLIM,global,monthly, temperature,pr...\n",
      "    id:                              Blank\n",
      "    naming_authority:                edu.uidaho.nkn\n",
      "    ...                              ...\n",
      "    geospatial_vertical_positive:    Up\n",
      "    references:                      Abatzoglou, J.T., S.Z. Dobrowski, S.A. P...\n",
      "    source:                          WorldClim v2.0 (2.5m), CRU Ts4.0, JRA-55\n",
      "    version:                         v1.0\n",
      "    Conventions:                     CF-1.6\n",
      "    History:                         Translated to CF-1.0 Conventions by Netc...\n"
     ]
    }
   ],
   "source": [
    "newest = xr.open_dataset('../../Colorado-Wildfire-Analysis-and-Prediction/data/new_raw_data/agg_terraclimate_windspeed_1979_2020.nc')\n",
    "#newest.air.to_dataframe().to_csv('temp.csv')\n",
    "print(newest)"
   ]
  },
  {
   "cell_type": "code",
   "execution_count": 52,
   "metadata": {},
   "outputs": [],
   "source": [
    "newest.ws.to_dataframe().to_csv('new.csv')"
   ]
  },
  {
   "cell_type": "code",
   "execution_count": 77,
   "metadata": {},
   "outputs": [
    {
     "data": {
      "text/html": [
       "<div>\n",
       "<style scoped>\n",
       "    .dataframe tbody tr th:only-of-type {\n",
       "        vertical-align: middle;\n",
       "    }\n",
       "\n",
       "    .dataframe tbody tr th {\n",
       "        vertical-align: top;\n",
       "    }\n",
       "\n",
       "    .dataframe thead th {\n",
       "        text-align: right;\n",
       "    }\n",
       "</style>\n",
       "<table border=\"1\" class=\"dataframe\">\n",
       "  <thead>\n",
       "    <tr style=\"text-align: right;\">\n",
       "      <th></th>\n",
       "      <th>time</th>\n",
       "      <th>lat</th>\n",
       "      <th>lon</th>\n",
       "      <th>ws</th>\n",
       "    </tr>\n",
       "  </thead>\n",
       "  <tbody>\n",
       "    <tr>\n",
       "      <th>0</th>\n",
       "      <td>1979-01-01</td>\n",
       "      <td>40.979167</td>\n",
       "      <td>-109.020833</td>\n",
       "      <td>2.86</td>\n",
       "    </tr>\n",
       "    <tr>\n",
       "      <th>1</th>\n",
       "      <td>1979-01-01</td>\n",
       "      <td>40.979167</td>\n",
       "      <td>-108.979167</td>\n",
       "      <td>2.84</td>\n",
       "    </tr>\n",
       "    <tr>\n",
       "      <th>2</th>\n",
       "      <td>1979-01-01</td>\n",
       "      <td>40.979167</td>\n",
       "      <td>-108.937500</td>\n",
       "      <td>2.91</td>\n",
       "    </tr>\n",
       "    <tr>\n",
       "      <th>3</th>\n",
       "      <td>1979-01-01</td>\n",
       "      <td>40.979167</td>\n",
       "      <td>-108.895833</td>\n",
       "      <td>2.68</td>\n",
       "    </tr>\n",
       "    <tr>\n",
       "      <th>4</th>\n",
       "      <td>1979-01-01</td>\n",
       "      <td>40.979167</td>\n",
       "      <td>-108.854167</td>\n",
       "      <td>2.56</td>\n",
       "    </tr>\n",
       "  </tbody>\n",
       "</table>\n",
       "</div>"
      ],
      "text/plain": [
       "         time        lat         lon    ws\n",
       "0  1979-01-01  40.979167 -109.020833  2.86\n",
       "1  1979-01-01  40.979167 -108.979167  2.84\n",
       "2  1979-01-01  40.979167 -108.937500  2.91\n",
       "3  1979-01-01  40.979167 -108.895833  2.68\n",
       "4  1979-01-01  40.979167 -108.854167  2.56"
      ]
     },
     "execution_count": 77,
     "metadata": {},
     "output_type": "execute_result"
    }
   ],
   "source": [
    "data_new = pd.read_csv('new.csv')\n",
    "data_new.head(5)"
   ]
  },
  {
   "cell_type": "code",
   "execution_count": 97,
   "metadata": {},
   "outputs": [
    {
     "name": "stdout",
     "output_type": "stream",
     "text": [
      "<xarray.Dataset>\n",
      "Dimensions:  (time: 504, lat: 241, lon: 169)\n",
      "Coordinates:\n",
      "  * time     (time) datetime64[ns] 1979-01-01 1979-02-01 ... 2020-12-01\n",
      "  * lat      (lat) float64 36.98 36.94 36.9 36.85 ... 27.1 27.06 27.02 26.98\n",
      "  * lon      (lon) float64 -109.0 -109.0 -108.9 -108.9 ... -102.1 -102.1 -102.0\n",
      "Data variables:\n",
      "    PDSI     (time, lat, lon) float32 ...\n",
      "Attributes: (12/50)\n",
      "    method:                          These layers from TerraClimate were crea...\n",
      "    title:                           TerraClimate: monthly climate and climat...\n",
      "    summary:                         This archive contains a dataset of high-...\n",
      "    keywords:                        WORLDCLIM,global,monthly, temperature,pr...\n",
      "    id:                              Blank\n",
      "    naming_authority:                edu.uidaho.nkn\n",
      "    ...                              ...\n",
      "    geospatial_vertical_positive:    Up\n",
      "    references:                      Abatzoglou, J.T., S.Z. Dobrowski, S.A. P...\n",
      "    source:                          WorldClim v2.0 (2.5m), CRU Ts4.0, JRA-55\n",
      "    version:                         v1.0\n",
      "    Conventions:                     CF-1.6\n",
      "    History:                         Translated to CF-1.0 Conventions by Netc...\n"
     ]
    }
   ],
   "source": [
    "newestest = xr.open_dataset('../../Colorado-Wildfire-Analysis-and-Prediction/data/new_raw_data/Drought_PDSI_1979_2020_GLOBE.nc')\n",
    "print(newestest)"
   ]
  },
  {
   "cell_type": "code",
   "execution_count": 98,
   "metadata": {},
   "outputs": [],
   "source": [
    "newestest.PDSI.to_dataframe().to_csv('newestset.csv')"
   ]
  },
  {
   "cell_type": "code",
   "execution_count": 58,
   "metadata": {},
   "outputs": [
    {
     "data": {
      "text/html": [
       "<div>\n",
       "<style scoped>\n",
       "    .dataframe tbody tr th:only-of-type {\n",
       "        vertical-align: middle;\n",
       "    }\n",
       "\n",
       "    .dataframe tbody tr th {\n",
       "        vertical-align: top;\n",
       "    }\n",
       "\n",
       "    .dataframe thead th {\n",
       "        text-align: right;\n",
       "    }\n",
       "</style>\n",
       "<table border=\"1\" class=\"dataframe\">\n",
       "  <thead>\n",
       "    <tr style=\"text-align: right;\">\n",
       "      <th></th>\n",
       "      <th>time</th>\n",
       "      <th>lat</th>\n",
       "      <th>lon</th>\n",
       "      <th>PDSI</th>\n",
       "    </tr>\n",
       "  </thead>\n",
       "  <tbody>\n",
       "    <tr>\n",
       "      <th>0</th>\n",
       "      <td>1979-01-01</td>\n",
       "      <td>36.979167</td>\n",
       "      <td>-109.020833</td>\n",
       "      <td>4.18</td>\n",
       "    </tr>\n",
       "    <tr>\n",
       "      <th>1</th>\n",
       "      <td>1979-01-01</td>\n",
       "      <td>36.979167</td>\n",
       "      <td>-108.979167</td>\n",
       "      <td>4.15</td>\n",
       "    </tr>\n",
       "    <tr>\n",
       "      <th>2</th>\n",
       "      <td>1979-01-01</td>\n",
       "      <td>36.979167</td>\n",
       "      <td>-108.937500</td>\n",
       "      <td>4.11</td>\n",
       "    </tr>\n",
       "    <tr>\n",
       "      <th>3</th>\n",
       "      <td>1979-01-01</td>\n",
       "      <td>36.979167</td>\n",
       "      <td>-108.895833</td>\n",
       "      <td>4.10</td>\n",
       "    </tr>\n",
       "    <tr>\n",
       "      <th>4</th>\n",
       "      <td>1979-01-01</td>\n",
       "      <td>36.979167</td>\n",
       "      <td>-108.854167</td>\n",
       "      <td>3.94</td>\n",
       "    </tr>\n",
       "  </tbody>\n",
       "</table>\n",
       "</div>"
      ],
      "text/plain": [
       "         time        lat         lon  PDSI\n",
       "0  1979-01-01  36.979167 -109.020833  4.18\n",
       "1  1979-01-01  36.979167 -108.979167  4.15\n",
       "2  1979-01-01  36.979167 -108.937500  4.11\n",
       "3  1979-01-01  36.979167 -108.895833  4.10\n",
       "4  1979-01-01  36.979167 -108.854167  3.94"
      ]
     },
     "execution_count": 58,
     "metadata": {},
     "output_type": "execute_result"
    }
   ],
   "source": [
    "data_newestest = pd.read_csv('newestset.csv')\n",
    "data_newestest.head(5)"
   ]
  },
  {
   "cell_type": "code",
   "execution_count": 59,
   "metadata": {},
   "outputs": [
    {
     "name": "stdout",
     "output_type": "stream",
     "text": [
      "(8262072, 4)\n",
      "(20527416, 4)\n"
     ]
    }
   ],
   "source": [
    "print(data_new.shape)\n",
    "print(data_newestest.shape)"
   ]
  },
  {
   "cell_type": "code",
   "execution_count": 61,
   "metadata": {},
   "outputs": [
    {
     "name": "stdout",
     "output_type": "stream",
     "text": [
      "2020-12-01\n"
     ]
    }
   ],
   "source": [
    "print(data_newestest['time'].max())"
   ]
  },
  {
   "cell_type": "code",
   "execution_count": 62,
   "metadata": {},
   "outputs": [
    {
     "name": "stdout",
     "output_type": "stream",
     "text": [
      "2020-12-01\n"
     ]
    }
   ],
   "source": [
    "print(data_new['time'].max())"
   ]
  },
  {
   "cell_type": "code",
   "execution_count": 65,
   "metadata": {},
   "outputs": [],
   "source": [
    "result = data_new.append(data_newestest, ignore_index = False)"
   ]
  },
  {
   "cell_type": "code",
   "execution_count": 66,
   "metadata": {},
   "outputs": [
    {
     "data": {
      "text/html": [
       "<div>\n",
       "<style scoped>\n",
       "    .dataframe tbody tr th:only-of-type {\n",
       "        vertical-align: middle;\n",
       "    }\n",
       "\n",
       "    .dataframe tbody tr th {\n",
       "        vertical-align: top;\n",
       "    }\n",
       "\n",
       "    .dataframe thead th {\n",
       "        text-align: right;\n",
       "    }\n",
       "</style>\n",
       "<table border=\"1\" class=\"dataframe\">\n",
       "  <thead>\n",
       "    <tr style=\"text-align: right;\">\n",
       "      <th></th>\n",
       "      <th>time</th>\n",
       "      <th>lat</th>\n",
       "      <th>lon</th>\n",
       "      <th>ws</th>\n",
       "      <th>PDSI</th>\n",
       "    </tr>\n",
       "  </thead>\n",
       "  <tbody>\n",
       "    <tr>\n",
       "      <th>0</th>\n",
       "      <td>1979-01-01</td>\n",
       "      <td>40.979167</td>\n",
       "      <td>-109.020833</td>\n",
       "      <td>2.86</td>\n",
       "      <td>NaN</td>\n",
       "    </tr>\n",
       "    <tr>\n",
       "      <th>1</th>\n",
       "      <td>1979-01-01</td>\n",
       "      <td>40.979167</td>\n",
       "      <td>-108.979167</td>\n",
       "      <td>2.84</td>\n",
       "      <td>NaN</td>\n",
       "    </tr>\n",
       "    <tr>\n",
       "      <th>2</th>\n",
       "      <td>1979-01-01</td>\n",
       "      <td>40.979167</td>\n",
       "      <td>-108.937500</td>\n",
       "      <td>2.91</td>\n",
       "      <td>NaN</td>\n",
       "    </tr>\n",
       "    <tr>\n",
       "      <th>3</th>\n",
       "      <td>1979-01-01</td>\n",
       "      <td>40.979167</td>\n",
       "      <td>-108.895833</td>\n",
       "      <td>2.68</td>\n",
       "      <td>NaN</td>\n",
       "    </tr>\n",
       "    <tr>\n",
       "      <th>4</th>\n",
       "      <td>1979-01-01</td>\n",
       "      <td>40.979167</td>\n",
       "      <td>-108.854167</td>\n",
       "      <td>2.56</td>\n",
       "      <td>NaN</td>\n",
       "    </tr>\n",
       "  </tbody>\n",
       "</table>\n",
       "</div>"
      ],
      "text/plain": [
       "         time        lat         lon    ws  PDSI\n",
       "0  1979-01-01  40.979167 -109.020833  2.86   NaN\n",
       "1  1979-01-01  40.979167 -108.979167  2.84   NaN\n",
       "2  1979-01-01  40.979167 -108.937500  2.91   NaN\n",
       "3  1979-01-01  40.979167 -108.895833  2.68   NaN\n",
       "4  1979-01-01  40.979167 -108.854167  2.56   NaN"
      ]
     },
     "execution_count": 66,
     "metadata": {},
     "output_type": "execute_result"
    }
   ],
   "source": [
    "result.head()"
   ]
  },
  {
   "cell_type": "code",
   "execution_count": 67,
   "metadata": {},
   "outputs": [
    {
     "data": {
      "text/plain": [
       "(28789488, 5)"
      ]
     },
     "execution_count": 67,
     "metadata": {},
     "output_type": "execute_result"
    }
   ],
   "source": [
    "result.shape"
   ]
  },
  {
   "cell_type": "code",
   "execution_count": 70,
   "metadata": {},
   "outputs": [
    {
     "data": {
      "text/plain": [
       "(0, 5)"
      ]
     },
     "execution_count": 70,
     "metadata": {},
     "output_type": "execute_result"
    }
   ],
   "source": [
    "result = result.dropna()\n",
    "result.shape"
   ]
  },
  {
   "cell_type": "code",
   "execution_count": 69,
   "metadata": {},
   "outputs": [
    {
     "data": {
      "text/html": [
       "<div>\n",
       "<style scoped>\n",
       "    .dataframe tbody tr th:only-of-type {\n",
       "        vertical-align: middle;\n",
       "    }\n",
       "\n",
       "    .dataframe tbody tr th {\n",
       "        vertical-align: top;\n",
       "    }\n",
       "\n",
       "    .dataframe thead th {\n",
       "        text-align: right;\n",
       "    }\n",
       "</style>\n",
       "<table border=\"1\" class=\"dataframe\">\n",
       "  <thead>\n",
       "    <tr style=\"text-align: right;\">\n",
       "      <th></th>\n",
       "      <th>time</th>\n",
       "      <th>lat</th>\n",
       "      <th>lon</th>\n",
       "      <th>ws</th>\n",
       "      <th>PDSI</th>\n",
       "    </tr>\n",
       "  </thead>\n",
       "  <tbody>\n",
       "    <tr>\n",
       "      <th>0</th>\n",
       "      <td>1979-01-01</td>\n",
       "      <td>40.979167</td>\n",
       "      <td>-109.020833</td>\n",
       "      <td>2.86</td>\n",
       "      <td>NaN</td>\n",
       "    </tr>\n",
       "    <tr>\n",
       "      <th>1</th>\n",
       "      <td>1979-01-01</td>\n",
       "      <td>40.979167</td>\n",
       "      <td>-108.979167</td>\n",
       "      <td>2.84</td>\n",
       "      <td>NaN</td>\n",
       "    </tr>\n",
       "    <tr>\n",
       "      <th>2</th>\n",
       "      <td>1979-01-01</td>\n",
       "      <td>40.979167</td>\n",
       "      <td>-108.937500</td>\n",
       "      <td>2.91</td>\n",
       "      <td>NaN</td>\n",
       "    </tr>\n",
       "    <tr>\n",
       "      <th>3</th>\n",
       "      <td>1979-01-01</td>\n",
       "      <td>40.979167</td>\n",
       "      <td>-108.895833</td>\n",
       "      <td>2.68</td>\n",
       "      <td>NaN</td>\n",
       "    </tr>\n",
       "    <tr>\n",
       "      <th>4</th>\n",
       "      <td>1979-01-01</td>\n",
       "      <td>40.979167</td>\n",
       "      <td>-108.854167</td>\n",
       "      <td>2.56</td>\n",
       "      <td>NaN</td>\n",
       "    </tr>\n",
       "  </tbody>\n",
       "</table>\n",
       "</div>"
      ],
      "text/plain": [
       "         time        lat         lon    ws  PDSI\n",
       "0  1979-01-01  40.979167 -109.020833  2.86   NaN\n",
       "1  1979-01-01  40.979167 -108.979167  2.84   NaN\n",
       "2  1979-01-01  40.979167 -108.937500  2.91   NaN\n",
       "3  1979-01-01  40.979167 -108.895833  2.68   NaN\n",
       "4  1979-01-01  40.979167 -108.854167  2.56   NaN"
      ]
     },
     "execution_count": 69,
     "metadata": {},
     "output_type": "execute_result"
    }
   ],
   "source": [
    "result.head()"
   ]
  },
  {
   "cell_type": "code",
   "execution_count": 100,
   "metadata": {},
   "outputs": [],
   "source": [
    "data_new = pd.read_csv('new.csv')\n",
    "# data_new = data_new[data_new['lat'] == 37.395833]\n",
    "# data_new = data_new[data_new['lon'] == -108.979167]"
   ]
  },
  {
   "cell_type": "code",
   "execution_count": 87,
   "metadata": {},
   "outputs": [
    {
     "name": "stdout",
     "output_type": "stream",
     "text": [
      "Empty DataFrame\n",
      "Columns: [time, lat, lon, ws]\n",
      "Index: []\n"
     ]
    }
   ],
   "source": [
    "print(data_new)"
   ]
  },
  {
   "cell_type": "code",
   "execution_count": 89,
   "metadata": {},
   "outputs": [],
   "source": [
    "import numpy as np"
   ]
  },
  {
   "cell_type": "code",
   "execution_count": 101,
   "metadata": {},
   "outputs": [
    {
     "data": {
      "text/html": [
       "<div>\n",
       "<style scoped>\n",
       "    .dataframe tbody tr th:only-of-type {\n",
       "        vertical-align: middle;\n",
       "    }\n",
       "\n",
       "    .dataframe tbody tr th {\n",
       "        vertical-align: top;\n",
       "    }\n",
       "\n",
       "    .dataframe thead th {\n",
       "        text-align: right;\n",
       "    }\n",
       "</style>\n",
       "<table border=\"1\" class=\"dataframe\">\n",
       "  <thead>\n",
       "    <tr style=\"text-align: right;\">\n",
       "      <th></th>\n",
       "      <th>time</th>\n",
       "      <th>lat</th>\n",
       "      <th>lon</th>\n",
       "      <th>ws</th>\n",
       "    </tr>\n",
       "  </thead>\n",
       "  <tbody>\n",
       "    <tr>\n",
       "      <th>0</th>\n",
       "      <td>1979-01-01</td>\n",
       "      <td>40.98</td>\n",
       "      <td>-109.02</td>\n",
       "      <td>2.86</td>\n",
       "    </tr>\n",
       "    <tr>\n",
       "      <th>1</th>\n",
       "      <td>1979-01-01</td>\n",
       "      <td>40.98</td>\n",
       "      <td>-108.98</td>\n",
       "      <td>2.84</td>\n",
       "    </tr>\n",
       "    <tr>\n",
       "      <th>2</th>\n",
       "      <td>1979-01-01</td>\n",
       "      <td>40.98</td>\n",
       "      <td>-108.94</td>\n",
       "      <td>2.91</td>\n",
       "    </tr>\n",
       "    <tr>\n",
       "      <th>3</th>\n",
       "      <td>1979-01-01</td>\n",
       "      <td>40.98</td>\n",
       "      <td>-108.90</td>\n",
       "      <td>2.68</td>\n",
       "    </tr>\n",
       "    <tr>\n",
       "      <th>4</th>\n",
       "      <td>1979-01-01</td>\n",
       "      <td>40.98</td>\n",
       "      <td>-108.85</td>\n",
       "      <td>2.56</td>\n",
       "    </tr>\n",
       "  </tbody>\n",
       "</table>\n",
       "</div>"
      ],
      "text/plain": [
       "         time    lat     lon    ws\n",
       "0  1979-01-01  40.98 -109.02  2.86\n",
       "1  1979-01-01  40.98 -108.98  2.84\n",
       "2  1979-01-01  40.98 -108.94  2.91\n",
       "3  1979-01-01  40.98 -108.90  2.68\n",
       "4  1979-01-01  40.98 -108.85  2.56"
      ]
     },
     "execution_count": 101,
     "metadata": {},
     "output_type": "execute_result"
    }
   ],
   "source": [
    "data_new = np.round(data_new, decimals=2)\n",
    "data_new.head()"
   ]
  },
  {
   "cell_type": "code",
   "execution_count": 96,
   "metadata": {},
   "outputs": [
    {
     "data": {
      "text/html": [
       "<div>\n",
       "<style scoped>\n",
       "    .dataframe tbody tr th:only-of-type {\n",
       "        vertical-align: middle;\n",
       "    }\n",
       "\n",
       "    .dataframe tbody tr th {\n",
       "        vertical-align: top;\n",
       "    }\n",
       "\n",
       "    .dataframe thead th {\n",
       "        text-align: right;\n",
       "    }\n",
       "</style>\n",
       "<table border=\"1\" class=\"dataframe\">\n",
       "  <thead>\n",
       "    <tr style=\"text-align: right;\">\n",
       "      <th></th>\n",
       "      <th>time</th>\n",
       "      <th>lat</th>\n",
       "      <th>lon</th>\n",
       "      <th>ws</th>\n",
       "    </tr>\n",
       "  </thead>\n",
       "  <tbody>\n",
       "    <tr>\n",
       "      <th>0</th>\n",
       "      <td>1979-01-01</td>\n",
       "      <td>40.98</td>\n",
       "      <td>-109.02</td>\n",
       "      <td>2.86</td>\n",
       "    </tr>\n",
       "    <tr>\n",
       "      <th>1</th>\n",
       "      <td>1979-01-01</td>\n",
       "      <td>40.98</td>\n",
       "      <td>-108.98</td>\n",
       "      <td>2.84</td>\n",
       "    </tr>\n",
       "    <tr>\n",
       "      <th>2</th>\n",
       "      <td>1979-01-01</td>\n",
       "      <td>40.98</td>\n",
       "      <td>-108.94</td>\n",
       "      <td>2.91</td>\n",
       "    </tr>\n",
       "    <tr>\n",
       "      <th>3</th>\n",
       "      <td>1979-01-01</td>\n",
       "      <td>40.98</td>\n",
       "      <td>-108.90</td>\n",
       "      <td>2.68</td>\n",
       "    </tr>\n",
       "    <tr>\n",
       "      <th>4</th>\n",
       "      <td>1979-01-01</td>\n",
       "      <td>40.98</td>\n",
       "      <td>-108.85</td>\n",
       "      <td>2.56</td>\n",
       "    </tr>\n",
       "  </tbody>\n",
       "</table>\n",
       "</div>"
      ],
      "text/plain": [
       "         time    lat     lon    ws\n",
       "0  1979-01-01  40.98 -109.02  2.86\n",
       "1  1979-01-01  40.98 -108.98  2.84\n",
       "2  1979-01-01  40.98 -108.94  2.91\n",
       "3  1979-01-01  40.98 -108.90  2.68\n",
       "4  1979-01-01  40.98 -108.85  2.56"
      ]
     },
     "execution_count": 96,
     "metadata": {},
     "output_type": "execute_result"
    }
   ],
   "source": [
    "data_new = data_new[data_new['lat'] == 40.98]\n",
    "data_new.head()"
   ]
  },
  {
   "cell_type": "code",
   "execution_count": 99,
   "metadata": {},
   "outputs": [],
   "source": [
    "data_newestest = pd.read_csv('newestset.csv')\n",
    "data_newestest = np.round(data_newestest, decimals=2)"
   ]
  },
  {
   "cell_type": "code",
   "execution_count": 102,
   "metadata": {},
   "outputs": [],
   "source": [
    "result = data_new.append(data_newestest, ignore_index = False)"
   ]
  },
  {
   "cell_type": "code",
   "execution_count": 103,
   "metadata": {},
   "outputs": [
    {
     "data": {
      "text/html": [
       "<div>\n",
       "<style scoped>\n",
       "    .dataframe tbody tr th:only-of-type {\n",
       "        vertical-align: middle;\n",
       "    }\n",
       "\n",
       "    .dataframe tbody tr th {\n",
       "        vertical-align: top;\n",
       "    }\n",
       "\n",
       "    .dataframe thead th {\n",
       "        text-align: right;\n",
       "    }\n",
       "</style>\n",
       "<table border=\"1\" class=\"dataframe\">\n",
       "  <thead>\n",
       "    <tr style=\"text-align: right;\">\n",
       "      <th></th>\n",
       "      <th>time</th>\n",
       "      <th>lat</th>\n",
       "      <th>lon</th>\n",
       "      <th>ws</th>\n",
       "      <th>PDSI</th>\n",
       "    </tr>\n",
       "  </thead>\n",
       "  <tbody>\n",
       "    <tr>\n",
       "      <th>0</th>\n",
       "      <td>1979-01-01</td>\n",
       "      <td>40.98</td>\n",
       "      <td>-109.02</td>\n",
       "      <td>2.86</td>\n",
       "      <td>NaN</td>\n",
       "    </tr>\n",
       "    <tr>\n",
       "      <th>1</th>\n",
       "      <td>1979-01-01</td>\n",
       "      <td>40.98</td>\n",
       "      <td>-108.98</td>\n",
       "      <td>2.84</td>\n",
       "      <td>NaN</td>\n",
       "    </tr>\n",
       "    <tr>\n",
       "      <th>2</th>\n",
       "      <td>1979-01-01</td>\n",
       "      <td>40.98</td>\n",
       "      <td>-108.94</td>\n",
       "      <td>2.91</td>\n",
       "      <td>NaN</td>\n",
       "    </tr>\n",
       "    <tr>\n",
       "      <th>3</th>\n",
       "      <td>1979-01-01</td>\n",
       "      <td>40.98</td>\n",
       "      <td>-108.90</td>\n",
       "      <td>2.68</td>\n",
       "      <td>NaN</td>\n",
       "    </tr>\n",
       "    <tr>\n",
       "      <th>4</th>\n",
       "      <td>1979-01-01</td>\n",
       "      <td>40.98</td>\n",
       "      <td>-108.85</td>\n",
       "      <td>2.56</td>\n",
       "      <td>NaN</td>\n",
       "    </tr>\n",
       "  </tbody>\n",
       "</table>\n",
       "</div>"
      ],
      "text/plain": [
       "         time    lat     lon    ws  PDSI\n",
       "0  1979-01-01  40.98 -109.02  2.86   NaN\n",
       "1  1979-01-01  40.98 -108.98  2.84   NaN\n",
       "2  1979-01-01  40.98 -108.94  2.91   NaN\n",
       "3  1979-01-01  40.98 -108.90  2.68   NaN\n",
       "4  1979-01-01  40.98 -108.85  2.56   NaN"
      ]
     },
     "execution_count": 103,
     "metadata": {},
     "output_type": "execute_result"
    }
   ],
   "source": [
    "result.head()"
   ]
  },
  {
   "cell_type": "code",
   "execution_count": 104,
   "metadata": {},
   "outputs": [
    {
     "data": {
      "text/plain": [
       "(28789488, 5)"
      ]
     },
     "execution_count": 104,
     "metadata": {},
     "output_type": "execute_result"
    }
   ],
   "source": [
    "result.shape"
   ]
  },
  {
   "cell_type": "code",
   "execution_count": 105,
   "metadata": {},
   "outputs": [],
   "source": [
    "result = result.dropna()"
   ]
  },
  {
   "cell_type": "code",
   "execution_count": 106,
   "metadata": {},
   "outputs": [
    {
     "data": {
      "text/plain": [
       "(0, 5)"
      ]
     },
     "execution_count": 106,
     "metadata": {},
     "output_type": "execute_result"
    }
   ],
   "source": [
    "result.shape"
   ]
  },
  {
   "cell_type": "code",
   "execution_count": null,
   "metadata": {},
   "outputs": [],
   "source": []
  }
 ],
 "metadata": {
  "kernelspec": {
   "display_name": "Python 3",
   "language": "python",
   "name": "python3"
  },
  "language_info": {
   "codemirror_mode": {
    "name": "ipython",
    "version": 3
   },
   "file_extension": ".py",
   "mimetype": "text/x-python",
   "name": "python",
   "nbconvert_exporter": "python",
   "pygments_lexer": "ipython3",
   "version": "3.8.3"
  }
 },
 "nbformat": 4,
 "nbformat_minor": 4
}
